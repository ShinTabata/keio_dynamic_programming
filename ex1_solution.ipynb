{
 "cells": [
  {
   "cell_type": "markdown",
   "metadata": {},
   "source": [
    "## Solution to exercise 1 \n",
    "\n",
    "### Dynamic Programming with John Stachurski"
   ]
  },
  {
   "cell_type": "markdown",
   "metadata": {},
   "source": [
    "The question was: Does there always exists a $x \\in [0, \\infty)$ that solves the equation\n",
    "$$\n",
    "    x\n",
    "    = c (1-\\beta) + \\beta\n",
    "    \\sum_{k=1}^K \\max \\left\\{\n",
    "        w_k ,\\, x\n",
    "    \\right\\}\n",
    "    \\, p_k\n",
    "$$\n",
    "Is it unique?  Suggest a strategy for computing it.\n",
    "\n",
    "We are assuming here that $\\beta \\in (0, 1)$."
   ]
  },
  {
   "cell_type": "markdown",
   "metadata": {},
   "source": [
    "There were hints, as follows:\n",
    "\n",
    "* Use the metric space $(\\mathbb R, \\rho)$ where $\\rho(x, y) = |x-y|$\n",
    "\n",
    "*  If $x_1, \\ldots, x_K$ are any $K$ numbers, then\n",
    "\n",
    "$$ \\left| \\sum_{k=1}^K x_k \\right| \\leq \\sum_{k=1}^K |x_k| $$\n",
    "\n",
    "* For any $a, x, y$ in $\\mathbb R$, \n",
    "    \n",
    "$$ \n",
    "    \\left| \n",
    "            \\max \\left\\{ a,\\, x \\right\\} - \\max \\left\\{ a,\\, y \\right\\} \n",
    "        \\right|\n",
    "        \\leq | x - y |\n",
    "$$\n",
    "\n",
    "\n",
    "You can convince yourself of the second inequality by sketching and checking different cases..."
   ]
  },
  {
   "cell_type": "markdown",
   "metadata": {
    "collapsed": true
   },
   "source": [
    "### Solution"
   ]
  },
  {
   "cell_type": "markdown",
   "metadata": {},
   "source": [
    "We're going to use the contraction mapping theorem.  Let \n",
    "\n",
    "$$ \n",
    "    f(x)\n",
    "    = c (1-\\beta) + \\beta\n",
    "    \\sum_{k=1}^K \\max \\left\\{\n",
    "        w_k ,\\, x\n",
    "    \\right\\}\n",
    "    \\, p_k\n",
    "$$\n",
    "\n",
    "We're looking for a fixed point of $f$ on $\\mathbb R_+ = [0, \\infty)$."
   ]
  },
  {
   "cell_type": "markdown",
   "metadata": {},
   "source": [
    "Using the hints above, we see that, for any $x, y$ in $\\mathbb R_+$, we have\n",
    "\n",
    "\\begin{align}\n",
    "    |f(x) - f(y)|\n",
    "    & = \\left| \n",
    "          \\beta \\sum_{k=1}^K \\max \\left\\{\n",
    "                w_k ,\\, x\n",
    "            \\right\\} \\, p_k\n",
    "           -\n",
    "            \\beta \\sum_{k=1}^K \\max \\left\\{\n",
    "                w_k ,\\, y\n",
    "            \\right\\} \\, p_k  \n",
    "         \\right|\n",
    "            \\\\\n",
    "    & = \\beta\\, \\left|\n",
    "               \\sum_{k=1}^K [\\max \\left\\{\n",
    "                w_k ,\\, x\n",
    "            \\right\\} - \\max \\left\\{\n",
    "                w_k ,\\, y\n",
    "            \\right\\} ]\\, p_k  \n",
    "         \\right|\n",
    "            \\\\\n",
    "    & \\leq \\beta\\,\\sum_{k=1}^K\n",
    "            \\left|\n",
    "                \\max \\left\\{\n",
    "                w_k ,\\, x\n",
    "            \\right\\} - \\max \\left\\{\n",
    "                w_k ,\\, y\n",
    "            \\right\\} \n",
    "         \\right|  p_k \n",
    "            \\\\\n",
    "                & \\leq \\beta\\,\\sum_{k=1}^K\n",
    "            \\left|\n",
    "                x - y\n",
    "         \\right|  p_k \n",
    "            \\\\\n",
    "\\end{align}"
   ]
  },
  {
   "cell_type": "markdown",
   "metadata": {},
   "source": [
    "Since $\\sum_k p_k = 1$, this yields\n",
    "\n",
    "$$ |f(x) - f(y)| \\leq \\beta |x - y| $$\n",
    "\n",
    "Hence $f$ is a contraction map on $\\mathbb R_+$, and therefore has a unique fixed point $x^*$ such that $f^n(x) \\to x^*$ as $n \\to \\infty$ from any $x \\in \\mathbb R_+$."
   ]
  },
  {
   "cell_type": "markdown",
   "metadata": {},
   "source": [
    "Let's plot $f$ when \n",
    "\n",
    "* $K = 2$\n",
    "* $w_1 = 1$ and $w_2 = 2$\n",
    "* $p_1 = 0.3$ and $p_3 = 0.7$\n",
    "* $c=1$ and $\\beta = 0.9$"
   ]
  },
  {
   "cell_type": "code",
   "execution_count": 12,
   "metadata": {
    "collapsed": true
   },
   "outputs": [],
   "source": [
    "import numpy as np\n",
    "import matplotlib.pyplot as plt\n",
    "\n",
    "c, w1, w2, p1, p2, β = 1, 1, 2, 0.3, 0.7, 0.9\n",
    "\n",
    "def f(x):\n",
    "    return c * (1 - β) + β * (max(x, w1)*p1 + max(x, w2)*p2)"
   ]
  },
  {
   "cell_type": "code",
   "execution_count": 13,
   "metadata": {},
   "outputs": [
    {
     "data": {
      "image/png": "[encoded data removed]",
      "text/plain": [
       "<matplotlib.figure.Figure at 0x7f67f6fd6828>"
      ]
     },
     "metadata": {},
     "output_type": "display_data"
    }
   ],
   "source": [
    "xvec = np.linspace(0, 4, 100)\n",
    "yvec = [f(x) for x in xvec]\n",
    "\n",
    "fig, ax = plt.subplots()\n",
    "ax.plot(xvec, yvec, label='$f$')\n",
    "ax.plot(xvec, xvec, 'k-', label='$45$')\n",
    "ax.legend()\n",
    "plt.show()"
   ]
  },
  {
   "cell_type": "markdown",
   "metadata": {},
   "source": [
    "Now let's compute that fixed point by iteration:"
   ]
  },
  {
   "cell_type": "code",
   "execution_count": 14,
   "metadata": {},
   "outputs": [
    {
     "data": {
      "image/png": "[encoded data removed]",
      "text/plain": [
       "<matplotlib.figure.Figure at 0x7f67f72b8588>"
      ]
     },
     "metadata": {},
     "output_type": "display_data"
    }
   ],
   "source": [
    "x = 1.0\n",
    "x_vals = []\n",
    "for i in range(50):\n",
    "    x_vals.append(x)\n",
    "    x = f(x)\n",
    "    \n",
    "fig, ax = plt.subplots()\n",
    "ax.plot(x_vals)\n",
    "ax.set(xlabel=\"$n$\", ylabel=\"$f^n(x)$\")\n",
    "ax.grid()\n",
    "plt.show()"
   ]
  },
  {
   "cell_type": "code",
   "execution_count": null,
   "metadata": {
    "collapsed": true
   },
   "outputs": [],
   "source": []
  }
 ],
 "metadata": {
  "kernelspec": {
   "display_name": "Python 3",
   "language": "python",
   "name": "python3"
  },
  "language_info": {
   "codemirror_mode": {
    "name": "ipython",
    "version": 3
   },
   "file_extension": ".py",
   "mimetype": "text/x-python",
   "name": "python",
   "nbconvert_exporter": "python",
   "pygments_lexer": "ipython3",
   "version": "3.6.1"
  }
 },
 "nbformat": 4,
 "nbformat_minor": 2
}
