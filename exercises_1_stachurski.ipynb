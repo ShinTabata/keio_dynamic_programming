{
 "cells": [
  {
   "cell_type": "markdown",
   "metadata": {},
   "source": [
    "## Exercise 1 for Keio Lectures\n",
    "\n",
    "### Dynamic Programming with John Stachurski"
   ]
  },
  {
   "cell_type": "markdown",
   "metadata": {},
   "source": [
    "In a standard job search model, an agent \n",
    "\n",
    "\n",
    "* receives offer $w_t$ in period $t$ where $\\{w_t\\}$ is  iid\n",
    "* accepts this offer at time $t$ or remains unemployed\n",
    "    *  if remains unemployed, then receives compensation $c > 0$\n",
    "    * if accepts, then works indefinitely at this wage\n",
    "\n",
    "The agent discounts the future at rate $\\beta \\in (0, 1)$\n",
    "\n",
    "\n",
    "It can be shown that the following is an optimal strategy: \n",
    "\n",
    "* Set a reservation wage $\\bar w$\n",
    "* Accept the first offer $w_t$ such that $w_t \\geq \\bar w$\n",
    "\n",
    "\n",
    "It can also be shown (details omitted) that $\\bar w$ should satisfy\n",
    "\n",
    "$$\n",
    "    \\bar w\n",
    "    = c (1-\\beta) + \\beta\n",
    "    \\sum_{k=1}^K \\max \\left\\{\n",
    "        w_k ,\\, \\bar w\n",
    "    \\right\\}\n",
    "    \\, p_k\n",
    "$$\n",
    "\n",
    "Here \n",
    "\n",
    "* $w_1, \\ldots, w_K$ are the possible wage values, occuring with probabilities $p_1, \\ldots, p_K$\n",
    "* $c > 0$\n",
    "\n",
    "But is there a solution to this equation?  Is it unique?  Can we compute it?\n",
    "\n",
    "More formally, here is the exercise:  Does there always exists a $x \\in [0, \\infty)$ that solves the equation\n",
    "$$\n",
    "    x\n",
    "    = c (1-\\beta) + \\beta\n",
    "    \\sum_{k=1}^K \\max \\left\\{\n",
    "        w_k ,\\, x\n",
    "    \\right\\}\n",
    "    \\, p_k\n",
    "$$\n",
    "Is it unique?  Suggest a strategy for computing it"
   ]
  },
  {
   "cell_type": "markdown",
   "metadata": {},
   "source": [
    "#### Hints\n",
    "\n",
    "There are different ways to show this, but the following suggestions/hints might be useful:\n",
    "\n",
    "* Use a theorem from the lectures\n",
    "\n",
    "* Use the metric space $(\\mathbb R, \\rho)$ where $\\rho(x, y) = |x-y|$\n",
    "\n",
    "*  If $x_1, \\ldots, x_K$ are any $K$ numbers, then\n",
    "\n",
    "$$ \\left| \\sum_{k=1}^K x_k \\right| \\leq \\sum_{k=1}^K |x_k| $$\n",
    "\n",
    "* For any $a, x, y$ in $\\mathbb R$, \n",
    "    \n",
    "$$ \n",
    "    \\left| \n",
    "            \\max \\left\\{ a,\\, x \\right\\} - \\max \\left\\{ a,\\, y \\right\\} \n",
    "        \\right|\n",
    "        \\leq | x - y |\n",
    "$$\n",
    "\n",
    "\n",
    "You can convince yourself of the second inequality by sketching and checking different cases..."
   ]
  },
  {
   "cell_type": "code",
   "execution_count": null,
   "metadata": {
    "collapsed": true
   },
   "outputs": [],
   "source": []
  }
 ],
 "metadata": {
  "kernelspec": {
   "display_name": "Python 3",
   "language": "python",
   "name": "python3"
  },
  "language_info": {
   "codemirror_mode": {
    "name": "ipython",
    "version": 3
   },
   "file_extension": ".py",
   "mimetype": "text/x-python",
   "name": "python",
   "nbconvert_exporter": "python",
   "pygments_lexer": "ipython3",
   "version": "3.6.1"
  }
 },
 "nbformat": 4,
 "nbformat_minor": 2
}
